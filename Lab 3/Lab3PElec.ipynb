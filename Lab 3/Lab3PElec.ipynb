{
 "cells": [
  {
   "cell_type": "markdown",
   "metadata": {},
   "source": [
    "# Lab 3: Power Electronics\n",
    "\n",
    "## Set-up & Safety\n",
    "\n",
    "Prior to beginning ur first task. My lab partner, Carter, and I began by clearly and setting up a neatly organzied space and putting on safety googles to ensure a good safe working environment. In between every task, we disconnect the leads from the power supply to reduce risk of electroncution of short circuiting. After one lab member sets up a task, the other member looks over it to ensure compoennts are connected in the correct location with the correct polarity.\n",
    "\n",
    "## Task 1\n",
    "\n",
    "\n",
    "\n",
    "In order to test the power supply was working, we utilized an extra load resistor and verified the current maxed out at 0.1A.\n",
    "\n",
    "When we connected the power supply to the power supply initally, the LED turned on and our current was at 10mA. The current eventually jumped up to 20mA, but there was only one significant figure so it may have only been at 15mA.\n",
    "\n",
    "Later on, we connected the power supply to the input and our load resistor to the output. Starting a 5V we slowly increased the voltage to 18V. We saw a change in the current on the power supply from 0.00A to 0.01A, which is a small amount but deemed negigible. \n",
    "\n",
    "In the same configuration as descirbed above, we attached added a jumper to the JP5 pins on the board. Starting at 5V, we saw the green LED light up at this voltage level. We once again raised the voltage to 18V, and verified the current doesn't exceed 0.02A.\n",
    "\n",
    "## Task 2\n",
    "\n",
    "Set up\n",
    "\n",
    "We started this circuit at 5V where it had a current around 0.01A. We then began raising the voltage and around 11V it jumped to 0.02A and eventually reached 0.04A when we hit 18V.\n",
    "\n",
    "The next step, we added our osillascope probe to TP6. To ground it, we connected its grounding clip to pin J7. We later learned this was not the proper way to do this, and instead, used the spring to connect the gound to the gounded hole directly next the TP6 probe hole. We initlally ran into problem with our meaurement. The oscope wasn't outputting a voltage as we rotated our potentiometer to decrease its resistance. When we did this we did not see an increase in voltage in our output. We began troubleshooting by reverifiying we had hooked everything up properly. After that, we check to ensure all the connections on our board we correct. This still didn't work so we used a CA board as a test, this however didn't work because the board was not properly reflowed. Finally, we tried a different CA board that had a different UC2844 chip. On this board we saw a output on our oscope at 50kHz. We believed this was because of the new UC2844 chip, so we changed the chip to our board and reset up the circuit on our board. With the new chip, we saw the correct output on our oscope and concluded that our issue was a bad chip.\n",
    " \n",
    "\n",
    "When connected to 18V with the R7 potentiometer turned all the way counter-clockwise we see initally no voltage jump. As we turned the potetiometer clockwise we began . We saw a gate voltage and the frequency listed on the oscope was 50 kHz.\n",
    "\n",
    "## Task 3\n",
    "\n",
    "\n",
    "Nothing noteable in the setup of this state. Our test inductor is number 5.\n",
    "\n",
    "\n",
    "After turning the potetiometer all the way clockwise. We turned it until we saw an output voltage of approximetly 4V. It did not however stay at this voltage level. It began slowly increase up to about 4.2V where we turned the potetiometer back counter-clockwise a little to get it close to 4. In the end, it settled at a voltage of approximately 4.104V.\n",
    "\n",
    "After saving the data from the 4V trial, we increased the output voltage to 7V. This time we did not see the incrimental increase in output voltage and the potetiometer was at rest, out final actual output voltage for this trial was 7.06V. Following the 7V trial, the voltage was increased to 9V were the actual output voltage achieved was 8.97V. One thing of note was the increase in voltage was not proportional to the increase in angle of the potetiometer. As the pottiometer was turned further clock-wise there was a greater increase in voltage for a given change in angle.\n",
    "\n",
    "## Task 4\n",
    "\n",
    "We adjusted the location of the probe outputs for the scope and reset the potetionmeter to the counter-clockwise postion. We again increase our output voltage to get it to 4V. This time to decrease the amount the output rose after we stopped ajusting the potiometer, we initlaly increase the output to 8V left it for a few seconds then ajusted it to a final output voltage of 4.049V. \n",
    "\n",
    "For the 7V test on this task we saw an actual output voltage of 6.89V.\n",
    "\n",
    "For the 9V test on this task we saw an actual output voltage of  8.97V.\n"
   ]
  }
 ],
 "metadata": {
  "language_info": {
   "name": "python"
  }
 },
 "nbformat": 4,
 "nbformat_minor": 2
}
