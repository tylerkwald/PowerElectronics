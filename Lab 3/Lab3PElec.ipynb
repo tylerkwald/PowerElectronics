{
 "cells": [
  {
   "cell_type": "markdown",
   "metadata": {},
   "source": [
    "# Lab 3: Power Electronics\n",
    "\n",
    "## Set-up & Safety\n",
    "\n",
    "Prior to beginning ur first task. My lab partner, Carter, and I began by clearly and setting up a neatly organzied space and putting on safety googles to ensure a good safe working environment. In between every task, we disconnect the leads from the power supply to reduce risk of electroncution of short circuiting. After one lab member sets up a task, the other member looks over it to ensure compoennts are connected in the correct location with the correct polarity.\n",
    "\n",
    "## Task 1\n",
    "\n",
    "\n",
    "\n",
    "In order to test the power supply was working, we utilized an extra load resistor and verified the current maxed out at 0.1A.\n",
    "\n",
    "When we connected the power supply to the power supply initally, the LED turned on and our current was at 10mA. The current eventually jumped up to 20mA, but there was only one significant figure so it may have only been at 15mA.\n",
    "\n",
    "Later on, we connected the power supply to the input and our load resistor to the output. Starting a 5V we slowly increased the voltage to 18V. We saw a change in the current on the power supply from 0.00A to 0.01A, which is a small amount but deemed negigible. \n",
    "\n",
    "In the same configuration as descirbed above, we attached added a jumper to the JP5 pins on the board. Starting at 5V, we saw the green LED light up at this voltage level. We once again raised the voltage to 18V, and verified the current doesn't exceed 0.02A.\n",
    "\n",
    "## Task 2\n",
    "\n",
    "Set up\n",
    "\n",
    "We started this circuit at 5V where it had a current around 0.01A. We then began raising the voltage and around 11V it jumped to 0.02A and eventually reached 0.04A when we hit 18V.\n",
    "\n",
    "The next step, we added our osillascope probe to TP6. To ground it, we connected its grounding clip to pin J7. We later learned this was not the proper way to do this, and instead, used the spring to connect the gound to the gounded hole directly next the TP6 probe hole. We initlally ran into problem with our meaurement. The oscope wasn't outputting a voltage as we rotated our potentiometer to decrease its resistance. When we did this we did not see an increase in voltage in our output. We began troubleshooting by reverifiying we had hooked everything up properly. After that, we check to ensure all the connections on our board we correct. This still didn't work so we used a CA board as a test, this however didn't work because the board was not properly reflowed. Finally, we tried a different CA board that had a different UC2844 chip. On this board we saw a output on our oscope at 50kHz. We believed this was because of the new UC2844 chip, so we changed the chip to our board and reset up the circuit on our board. With the new chip, we saw the correct output on our oscope and concluded that our issue was a bad chip.\n",
    " \n",
    "\n",
    "When connected to 18V with the R7 potentiometer turned all the way counter-clockwise we see initally no voltage jump.\n",
    "We \n"
   ]
  }
 ],
 "metadata": {
  "language_info": {
   "name": "python"
  }
 },
 "nbformat": 4,
 "nbformat_minor": 2
}
