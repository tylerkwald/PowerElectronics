{
 "cells": [
  {
   "cell_type": "markdown",
   "metadata": {},
   "source": [
    "# Lab 6\n",
    "Tyler Ewald"
   ]
  },
  {
   "cell_type": "code",
   "execution_count": 1,
   "metadata": {},
   "outputs": [],
   "source": [
    "import pandas as pd\n",
    "import csv\n",
    "import matplotlib.pyplot as plt\n",
    "import numpy as np\n",
    "from scipy import integrate\n",
    "\n",
    "\n",
    "pd.set_option('display.float_format', lambda x: '%e' % x)"
   ]
  },
  {
   "cell_type": "code",
   "execution_count": 2,
   "metadata": {},
   "outputs": [],
   "source": [
    "def read_rigol_csv(csv_file_name):\n",
    "    with open(csv_file_name) as f:\n",
    "        rows = list(csv.reader(f))\n",
    "        i = 0\n",
    "        while rows[0][i] != \"\":\n",
    "            i = i+1\n",
    "        numcols = i-2\n",
    "        t0 = float(rows[1][numcols])\n",
    "        dT = float(rows[1][numcols+1])\n",
    "    data = pd.read_csv(csv_file_name, usecols=range(0,numcols), skiprows=[1])\n",
    "    data['X'] = t0+data['X']*dT\n",
    "    return data, t0, dT"
   ]
  },
  {
   "cell_type": "markdown",
   "metadata": {},
   "source": [
    "## PreLab\n",
    "\n",
    "#### Operating Conditions\n",
    "\n",
    "Input Voltage Vg = 18V, Output Voltage Vo = 10V, Output power Pout = 20W, Switching frequency fs = 50kHz, Duty Cycle D = 35%, alpha = 70% (no smaller than 60%), Max peak flux density in core = 300mT, Max RMS current density in wire = 10 Arms/mm^2\n",
    "\n",
    "#### Calculates and Design\n",
    "\n",
    "To begin, we calculated the turn ratio a for our transformer.\n",
    "\n",
    "$a = \\frac{V_o}{V_g} * \\frac{\\sqrt{\\alpha} - D}{D}$\n",
    "\n",
    "$a = \\frac{10}{18}* \\frac{\\sqrt{0.7}-0.35}{0.35} = 0.77$ \n",
    "\n",
    "Next, we calculated our inductance by modeling our circuit as a buck converter to get the critical inductance and using our alpha value to convert it to the inductance.\n",
    "\n",
    "$L_{crit} = (1/(1+M))*R*\\frac{T_s}{2}$\n",
    "\n",
    "$M = \\frac{V_o}{a*V_g} = 0.72, R = \\frac{R_o}{a^2} = 8.43 \\Omega, Ts = \\frac{1/fs} = 2e-5 s$\n",
    "\n",
    "$L_{crit} = (1-0.72)*8.43*\\frac{0.00002}{2} = $\n",
    "\n",
    "$L = L_{crit} * \\alpha = $\n",
    "\n",
    "Now with our inductance, we can calculate the minimum numbers of turns needs to satisfy the max flux density condition.\n",
    "\n",
    "\n",
    "\n",
    "Given that our minimum number of turns is 8, and our turn ratio a = .77. We can decide on the number of turns for each side of the transistor.\n",
    "\n",
    "In order to maintain the turn ratio, we went with 9 turns on the magnitizing inductance side of the transformer, and 7 on the other side. This gives us a turn ratio of a = 0.78 which is approximately equal to our theoretical value. The 9 turns on the magnetizing inductance side also satisfies our minimum turn requirement. \n",
    "\n",
    "Now we continue on to calculating our gap length."
   ]
  },
  {
   "cell_type": "markdown",
   "metadata": {},
   "source": [
    "## Lab\n",
    "\n",
    "### Task 1\n",
    "\n",
    "4v: 3.975V with .26 amps\n",
    "\n",
    "7: 7.00V and .7 amps\n",
    "\n",
    "9: 9.14V     1.14 amps\n",
    "\n",
    "\n",
    "continued issue with transformer vibrations. Error starts just after 9.1 output volts and results in a drop in output voltage and inconsistent waveform on the oscilliscope. "
   ]
  },
  {
   "cell_type": "code",
   "execution_count": 3,
   "metadata": {},
   "outputs": [
    {
     "ename": "KeyError",
     "evalue": "'CH2'",
     "output_type": "error",
     "traceback": [
      "\u001b[0;31m---------------------------------------------------------------------------\u001b[0m",
      "\u001b[0;31mKeyError\u001b[0m                                  Traceback (most recent call last)",
      "File \u001b[0;32m~/.local/lib/python3.10/site-packages/pandas/core/indexes/base.py:3805\u001b[0m, in \u001b[0;36mIndex.get_loc\u001b[0;34m(self, key)\u001b[0m\n\u001b[1;32m   3804\u001b[0m \u001b[38;5;28;01mtry\u001b[39;00m:\n\u001b[0;32m-> 3805\u001b[0m     \u001b[38;5;28;01mreturn\u001b[39;00m \u001b[38;5;28;43mself\u001b[39;49m\u001b[38;5;241;43m.\u001b[39;49m\u001b[43m_engine\u001b[49m\u001b[38;5;241;43m.\u001b[39;49m\u001b[43mget_loc\u001b[49m\u001b[43m(\u001b[49m\u001b[43mcasted_key\u001b[49m\u001b[43m)\u001b[49m\n\u001b[1;32m   3806\u001b[0m \u001b[38;5;28;01mexcept\u001b[39;00m \u001b[38;5;167;01mKeyError\u001b[39;00m \u001b[38;5;28;01mas\u001b[39;00m err:\n",
      "File \u001b[0;32mindex.pyx:167\u001b[0m, in \u001b[0;36mpandas._libs.index.IndexEngine.get_loc\u001b[0;34m()\u001b[0m\n",
      "File \u001b[0;32mindex.pyx:196\u001b[0m, in \u001b[0;36mpandas._libs.index.IndexEngine.get_loc\u001b[0;34m()\u001b[0m\n",
      "File \u001b[0;32mpandas/_libs/hashtable_class_helper.pxi:7081\u001b[0m, in \u001b[0;36mpandas._libs.hashtable.PyObjectHashTable.get_item\u001b[0;34m()\u001b[0m\n",
      "File \u001b[0;32mpandas/_libs/hashtable_class_helper.pxi:7089\u001b[0m, in \u001b[0;36mpandas._libs.hashtable.PyObjectHashTable.get_item\u001b[0;34m()\u001b[0m\n",
      "\u001b[0;31mKeyError\u001b[0m: 'CH2'",
      "\nThe above exception was the direct cause of the following exception:\n",
      "\u001b[0;31mKeyError\u001b[0m                                  Traceback (most recent call last)",
      "Cell \u001b[0;32mIn[3], line 5\u001b[0m\n\u001b[1;32m      3\u001b[0m [data9, t0, dT] \u001b[38;5;241m=\u001b[39m read_rigol_csv(\u001b[38;5;124m'\u001b[39m\u001b[38;5;124mData/tsk1_9.csv\u001b[39m\u001b[38;5;124m'\u001b[39m)\n\u001b[1;32m      4\u001b[0m data4[\u001b[38;5;124m'\u001b[39m\u001b[38;5;124mCH1\u001b[39m\u001b[38;5;124m'\u001b[39m] \u001b[38;5;241m=\u001b[39m data4[\u001b[38;5;124m'\u001b[39m\u001b[38;5;124mCH1\u001b[39m\u001b[38;5;124m'\u001b[39m]\u001b[38;5;241m.\u001b[39mrolling(\u001b[38;5;241m30\u001b[39m)\u001b[38;5;241m.\u001b[39mmean()\n\u001b[0;32m----> 5\u001b[0m data4[\u001b[38;5;124m'\u001b[39m\u001b[38;5;124mCH2\u001b[39m\u001b[38;5;124m'\u001b[39m] \u001b[38;5;241m=\u001b[39m \u001b[43mdata4\u001b[49m\u001b[43m[\u001b[49m\u001b[38;5;124;43m'\u001b[39;49m\u001b[38;5;124;43mCH2\u001b[39;49m\u001b[38;5;124;43m'\u001b[39;49m\u001b[43m]\u001b[49m\u001b[38;5;241m.\u001b[39mrolling(\u001b[38;5;241m30\u001b[39m)\u001b[38;5;241m.\u001b[39mmean()\n\u001b[1;32m      6\u001b[0m data7[\u001b[38;5;124m'\u001b[39m\u001b[38;5;124mCH1\u001b[39m\u001b[38;5;124m'\u001b[39m] \u001b[38;5;241m=\u001b[39m data7[\u001b[38;5;124m'\u001b[39m\u001b[38;5;124mCH1\u001b[39m\u001b[38;5;124m'\u001b[39m]\u001b[38;5;241m.\u001b[39mrolling(\u001b[38;5;241m30\u001b[39m)\u001b[38;5;241m.\u001b[39mmean()\n\u001b[1;32m      7\u001b[0m data7[\u001b[38;5;124m'\u001b[39m\u001b[38;5;124mCH2\u001b[39m\u001b[38;5;124m'\u001b[39m] \u001b[38;5;241m=\u001b[39m data7[\u001b[38;5;124m'\u001b[39m\u001b[38;5;124mCH2\u001b[39m\u001b[38;5;124m'\u001b[39m]\u001b[38;5;241m.\u001b[39mrolling(\u001b[38;5;241m30\u001b[39m)\u001b[38;5;241m.\u001b[39mmean()\n",
      "File \u001b[0;32m~/.local/lib/python3.10/site-packages/pandas/core/frame.py:4102\u001b[0m, in \u001b[0;36mDataFrame.__getitem__\u001b[0;34m(self, key)\u001b[0m\n\u001b[1;32m   4100\u001b[0m \u001b[38;5;28;01mif\u001b[39;00m \u001b[38;5;28mself\u001b[39m\u001b[38;5;241m.\u001b[39mcolumns\u001b[38;5;241m.\u001b[39mnlevels \u001b[38;5;241m>\u001b[39m \u001b[38;5;241m1\u001b[39m:\n\u001b[1;32m   4101\u001b[0m     \u001b[38;5;28;01mreturn\u001b[39;00m \u001b[38;5;28mself\u001b[39m\u001b[38;5;241m.\u001b[39m_getitem_multilevel(key)\n\u001b[0;32m-> 4102\u001b[0m indexer \u001b[38;5;241m=\u001b[39m \u001b[38;5;28;43mself\u001b[39;49m\u001b[38;5;241;43m.\u001b[39;49m\u001b[43mcolumns\u001b[49m\u001b[38;5;241;43m.\u001b[39;49m\u001b[43mget_loc\u001b[49m\u001b[43m(\u001b[49m\u001b[43mkey\u001b[49m\u001b[43m)\u001b[49m\n\u001b[1;32m   4103\u001b[0m \u001b[38;5;28;01mif\u001b[39;00m is_integer(indexer):\n\u001b[1;32m   4104\u001b[0m     indexer \u001b[38;5;241m=\u001b[39m [indexer]\n",
      "File \u001b[0;32m~/.local/lib/python3.10/site-packages/pandas/core/indexes/base.py:3812\u001b[0m, in \u001b[0;36mIndex.get_loc\u001b[0;34m(self, key)\u001b[0m\n\u001b[1;32m   3807\u001b[0m     \u001b[38;5;28;01mif\u001b[39;00m \u001b[38;5;28misinstance\u001b[39m(casted_key, \u001b[38;5;28mslice\u001b[39m) \u001b[38;5;129;01mor\u001b[39;00m (\n\u001b[1;32m   3808\u001b[0m         \u001b[38;5;28misinstance\u001b[39m(casted_key, abc\u001b[38;5;241m.\u001b[39mIterable)\n\u001b[1;32m   3809\u001b[0m         \u001b[38;5;129;01mand\u001b[39;00m \u001b[38;5;28many\u001b[39m(\u001b[38;5;28misinstance\u001b[39m(x, \u001b[38;5;28mslice\u001b[39m) \u001b[38;5;28;01mfor\u001b[39;00m x \u001b[38;5;129;01min\u001b[39;00m casted_key)\n\u001b[1;32m   3810\u001b[0m     ):\n\u001b[1;32m   3811\u001b[0m         \u001b[38;5;28;01mraise\u001b[39;00m InvalidIndexError(key)\n\u001b[0;32m-> 3812\u001b[0m     \u001b[38;5;28;01mraise\u001b[39;00m \u001b[38;5;167;01mKeyError\u001b[39;00m(key) \u001b[38;5;28;01mfrom\u001b[39;00m\u001b[38;5;250m \u001b[39m\u001b[38;5;21;01merr\u001b[39;00m\n\u001b[1;32m   3813\u001b[0m \u001b[38;5;28;01mexcept\u001b[39;00m \u001b[38;5;167;01mTypeError\u001b[39;00m:\n\u001b[1;32m   3814\u001b[0m     \u001b[38;5;66;03m# If we have a listlike key, _check_indexing_error will raise\u001b[39;00m\n\u001b[1;32m   3815\u001b[0m     \u001b[38;5;66;03m#  InvalidIndexError. Otherwise we fall through and re-raise\u001b[39;00m\n\u001b[1;32m   3816\u001b[0m     \u001b[38;5;66;03m#  the TypeError.\u001b[39;00m\n\u001b[1;32m   3817\u001b[0m     \u001b[38;5;28mself\u001b[39m\u001b[38;5;241m.\u001b[39m_check_indexing_error(key)\n",
      "\u001b[0;31mKeyError\u001b[0m: 'CH2'"
     ]
    }
   ],
   "source": [
    "[data4, t0, dT] = read_rigol_csv('Data/tsk1_4.csv')\n",
    "[data7, t0, dT] = read_rigol_csv('Data/tsk1_7.csv')\n",
    "[data9, t0, dT] = read_rigol_csv('Data/tsk1_9.csv')\n",
    "data4['CH1'] = data4['CH1'].rolling(30).mean()\n",
    "data4['CH2'] = data4['CH2'].rolling(30).mean()\n",
    "data7['CH1'] = data7['CH1'].rolling(30).mean()\n",
    "data7['CH2'] = data7['CH2'].rolling(30).mean()\n",
    "data9['CH1'] = data9['CH1'].rolling(30).mean()\n",
    "data9['CH2'] = data9['CH2'].rolling(30).mean()\n",
    "# bar4 = (-1e-7, .3e-5, 2.0e-5)\n",
    "# bar7 = (2e-6, .8e-5, 2.2e-5)\n",
    "# bar9 = (1.15e-5, 2.0e-5, 3.15e-5)\n",
    "fig, ax = plt.subplots(2,3, figsize = (15,10))\n",
    "data4.plot(x=\"X\", y=\"CH1\", ax = ax[0][0])\n",
    "ax[0][0].set_title(\"4V output Vshunt vs. Time\")\n",
    "data4.plot(x=\"X\", y=\"CH2\", ax = ax[1][0])\n",
    "ax[1][0].set_title(\"4V output Vdrain vs. Time\")\n",
    "data7.plot(x=\"X\", y=\"CH1\", ax = ax[0][1])\n",
    "\n",
    "ax[0][1].set_title(\"7V output Vshunt vs. Time\")\n",
    "data7.plot(x=\"X\", y=\"CH2\", ax = ax[1][1])\n",
    "ax[1][1].set_title(\"7V output Vdrain vs. Time\")\n",
    "data9.plot(x=\"X\", y=\"CH1\", ax = ax[0][2])\n",
    "\n",
    "ax[0][2].set_title(\"9V output Vshunt vs. Time\")\n",
    "data9.plot(x=\"X\", y=\"CH2\", ax = ax[1][2])\n",
    "ax[1][2].set_title(\"9V output Vdrain vs. Time\")\n",
    "for axes in ax.flatten():\n",
    "    axes.set_xlabel(\"Time (s)\")\n",
    "    axes.set_ylabel(\"Voltage (V)\")\n",
    "    axes.set_xlim((-.5e-5, 3.5e-5))\n",
    "\n",
    "    "
   ]
  }
 ],
 "metadata": {
  "kernelspec": {
   "display_name": "Python 3",
   "language": "python",
   "name": "python3"
  },
  "language_info": {
   "codemirror_mode": {
    "name": "ipython",
    "version": 3
   },
   "file_extension": ".py",
   "mimetype": "text/x-python",
   "name": "python",
   "nbconvert_exporter": "python",
   "pygments_lexer": "ipython3",
   "version": "3.10.12"
  }
 },
 "nbformat": 4,
 "nbformat_minor": 2
}
